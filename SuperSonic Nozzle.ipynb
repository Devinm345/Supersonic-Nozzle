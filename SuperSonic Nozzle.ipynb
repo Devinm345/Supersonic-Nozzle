{
 "cells": [
  {
   "cell_type": "code",
   "execution_count": 14,
   "id": "c2ad5709-d76d-4c47-94fd-40b06e3a7b62",
   "metadata": {},
   "outputs": [],
   "source": [
    "# library imports\n",
    "import numpy as np\n",
    "import matplotlib.pyplot as plt"
   ]
  },
  {
   "cell_type": "code",
   "execution_count": 15,
   "id": "451e5196-2b6b-4cac-a7a2-fa9020f7e7ba",
   "metadata": {},
   "outputs": [],
   "source": [
    "# variables\n",
    "T1 = 298            # K\n",
    "P1 = 620.528        # kpa from 90 PSI\n",
    "m_dot = .0016667    # kg/s @ 90 PSI\n",
    "gamma = 1.4\n",
    "R = 287             # J/kg-K\n",
    "M2 = 2              # supersonic flow\n",
    "alpha = 15          # degrees"
   ]
  },
  {
   "cell_type": "code",
   "execution_count": 16,
   "id": "da8212ad-561a-4478-9aa3-b07a483618fe",
   "metadata": {},
   "outputs": [
    {
     "name": "stdout",
     "output_type": "stream",
     "text": [
      "Throat area = 0.0011472 m^2\n",
      "Throat temp = 248.33 K\n",
      "Throat Pressure = 327.81 kPa\n"
     ]
    }
   ],
   "source": [
    "# Solving for throat conditions\n",
    "# V* = a\n",
    "T_star = T1 * ((2)/(gamma + 1))\n",
    "P_star = P1 * ((2)/(gamma + 1))**(gamma/(gamma - 1))\n",
    "a = np.sqrt(gamma * R * T_star) # Local speed at the throat\n",
    "A_star = ((m_dot)/((P_star / (R * T_star) * a)))\n",
    "print(f'Throat area = {A_star:.5g} m^2\\nThroat temp = {T_star:.5g} K\\nThroat Pressure = {P_star:.5g} kPa')"
   ]
  },
  {
   "cell_type": "code",
   "execution_count": 17,
   "id": "83f1988e-9f61-4efd-ac85-1c08942be051",
   "metadata": {},
   "outputs": [
    {
     "name": "stdout",
     "output_type": "stream",
     "text": [
      "Exit area = 0.0027876 m^2\n",
      "Exit pressure = 79.3063 kPa\n"
     ]
    }
   ],
   "source": [
    "# Solving For exit conditions\n",
    "P2 = P1 * (1 + ((gamma - 1) / 2) * M2**2)**(-gamma/(gamma-1)) \n",
    "A2 = (A_star / M2) * ((2/(gamma + 1)) * (1 + ((gamma - 1) / 2) * M2**2)**((gamma + 1)/(2 * (gamma - 1))))\n",
    "print(f'Exit area = {A2:.6g} m^2\\nExit pressure = {P2:.6g} kPa')"
   ]
  },
  {
   "cell_type": "code",
   "execution_count": 18,
   "id": "245e989a-2ace-49f3-819f-dc846db8c6c5",
   "metadata": {},
   "outputs": [
    {
     "name": "stdout",
     "output_type": "stream",
     "text": [
      "Area ratio = 2.43\n"
     ]
    }
   ],
   "source": [
    "print(f'Area ratio = {A2/A_star}')"
   ]
  },
  {
   "cell_type": "code",
   "execution_count": 19,
   "id": "018140f2-f937-4952-8a30-0ff4d25680b7",
   "metadata": {},
   "outputs": [],
   "source": [
    "# Make nozzle ~3x bigger for printing?"
   ]
  },
  {
   "cell_type": "code",
   "execution_count": 45,
   "id": "081902d9-d392-4f6c-813c-13dba387a4a1",
   "metadata": {
    "scrolled": true
   },
   "outputs": [
    {
     "name": "stdout",
     "output_type": "stream",
     "text": [
      "Throat radius 19.109 mm\n",
      "Exit radius 29.788 mm\n",
      "Length of divereging section 39.854 mm\n"
     ]
    }
   ],
   "source": [
    "r2 = np.sqrt(A2/np.pi)\n",
    "r_star = np.sqrt(A_star/np.pi)\n",
    "L_cone = ((r2 - r_star)/(np.abs(np.tan(alpha*(np.pi/180)))))\n",
    "print(f'Throat radius {r_star * 1000:.5g} mm\\nExit radius {r2 * 1000:.5g} mm\\nLength of divereging section {L_cone * 1000:.5g} mm')"
   ]
  }
 ],
 "metadata": {
  "kernelspec": {
   "display_name": "Python 3 (ipykernel)",
   "language": "python",
   "name": "python3"
  },
  "language_info": {
   "codemirror_mode": {
    "name": "ipython",
    "version": 3
   },
   "file_extension": ".py",
   "mimetype": "text/x-python",
   "name": "python",
   "nbconvert_exporter": "python",
   "pygments_lexer": "ipython3",
   "version": "3.11.5"
  }
 },
 "nbformat": 4,
 "nbformat_minor": 5
}
